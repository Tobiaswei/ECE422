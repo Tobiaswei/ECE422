{
 "cells": [
  {
   "cell_type": "code",
   "execution_count": 14,
   "metadata": {},
   "outputs": [],
   "source": [
    "import pbp\n",
    "from fractions import gcd\n",
    "from Crypto.PublicKey import RSA\n",
    "from Crypto.Util import number\n",
    "\n",
    "def producttree(X):\n",
    "    result = [X]\n",
    "    while len(result[-1]) > 1:\n",
    "        X = result[-1]\n",
    "        Y = []\n",
    "        L = len(X)\n",
    "        Y = [X[i*2]*X[i*2+1] for i in range(L/2)]\n",
    "        if L % 2 == 1:\n",
    "            Y.append(X[L-1])\n",
    "        result.append(Y)\n",
    "    return (result)\n",
    "def remaindersusingproducttree(n,T):\n",
    "       result = [n]\n",
    "       for t in reversed(T):\n",
    "         result = [result[(i//2)] % t[i] for i in range(len(t))]\n",
    "       return result\n",
    "\n",
    "def squaretree(T):\n",
    "        Y=[]\n",
    "        for j in range(len(T)):\n",
    "            Y.append([T[j][i]**2 for i in range(len(T[j]))])\n",
    "        return Y\n",
    "def find_gcd(remainder_list,moduli_list):\n",
    "    potential_pair=[]\n",
    "    if len(remainder_list)==len(moduli_list):\n",
    "        remainder_list=[remainder_list[i]/moduli_list[i] for i in range(len(moduli_list))]\n",
    "        for r,m in zip(remainder_list,moduli_list):\n",
    "             q=gcd(r,m)\n",
    "             if (q>1):\n",
    "                \n",
    "                potential_pair.append((m,q))\n",
    "                \n",
    "    else:\n",
    "        print(\"error, not pair\")\n",
    "        exit(1)\n",
    "        \n",
    "    return potential_pair\n",
    "# recostruct RSA by useing the potential list\n"
   ]
  },
  {
   "cell_type": "code",
   "execution_count": 34,
   "metadata": {},
   "outputs": [],
   "source": [
    "def find_private_key_list(potential_pair):\n",
    "    e=65537\n",
    "    private_keys=[]\n",
    "    for each in potential_pair:\n",
    "        \n",
    "        p=each[0]/each[1]\n",
    "        q=each[1]\n",
    "        assert(number.isPrime(p))\n",
    "        assert(number.isPrime(q))\n",
    "        d = number.inverse(e, (p-1)*(q-1))\n",
    "        private_keys.append(RSA.construct((long(each[0]),long(e),long(d))))\n",
    "        \n",
    "    return private_keys\n",
    "def Decrypt_AES(keys,cipher_text):\n",
    "    for key in private_keys:\n",
    "        try:\n",
    "            plaintext = pbp.decrypt(key, cipher_text)\n",
    "            print(plaintext)\n",
    "            return plaintext\n",
    "            \n",
    "        except ValueError:\n",
    "            "
   ]
  },
  {
   "cell_type": "code",
   "execution_count": 2,
   "metadata": {},
   "outputs": [],
   "source": [
    "with open(\"moduli.hex\") as moduli:\n",
    "        moduli_list=moduli.readlines()\n",
    "        moduli_list=[each.strip() for each in moduli_list]\n",
    "        moduli_list=[int(each,16) for each in moduli_list]\n",
    "        \n",
    "with open(\"3.2.4_ciphertext.enc.asc\") as cipher:\n",
    "        cipher_text=cipher.read()"
   ]
  },
  {
   "cell_type": "code",
   "execution_count": 3,
   "metadata": {},
   "outputs": [
    {
     "data": {
      "text/plain": [
       "'-----BEGIN PRETTY BAD ENCRYPTED MESSAGE-----\\ngAAAAJGHKUppUoHyJMjG/9g3qO/Q0vZjLfdnDEidUoEJ8nkaME4GYzghvpqY5Cytypc/mvdX/MuX\\nBZ66cDQUggweoSjMMFFZ0NwiuO8uOUGHIixxsEguHAa7NaRTywbQYfdRTA4bgGjb9XPxLKop6eav\\n66b83EfT9CYJfTipiqz9NNlKlaCWgCniX20saZB7R078Y1dC8nnfq3mjseh9inE7RVjn6lqfk6QF\\njy+y2sUvHdUAi6+tlu8+lG6o4KAn5zzvLT6TtM7qlle+YG66jTFc+xQEcUg3LFnC6xwcUh3GFb1e\\nEifNZzQIHqtYqM6Q/CauDECtoaX6RGe3APK82EmEeWcihb3dgqV6H5Juz8TBfOw6\\n-----END PRETTY BAD ENCRYPTED MESSAGE-----\\n'"
      ]
     },
     "execution_count": 3,
     "metadata": {},
     "output_type": "execute_result"
    }
   ],
   "source": [
    "cipher_text"
   ]
  },
  {
   "cell_type": "code",
   "execution_count": 4,
   "metadata": {},
   "outputs": [],
   "source": [
    "pt=producttree(moduli_list)"
   ]
  },
  {
   "cell_type": "code",
   "execution_count": 5,
   "metadata": {},
   "outputs": [],
   "source": [
    "pt_square=squaretree(pt)"
   ]
  },
  {
   "cell_type": "code",
   "execution_count": 6,
   "metadata": {},
   "outputs": [],
   "source": [
    "r_l=remaindersusingproducttree(pt[-1][0],pt_square)"
   ]
  },
  {
   "cell_type": "code",
   "execution_count": 17,
   "metadata": {},
   "outputs": [],
   "source": [
    "potential_pair=find_gcd(r_l,moduli_list)"
   ]
  },
  {
   "cell_type": "code",
   "execution_count": 26,
   "metadata": {},
   "outputs": [],
   "source": [
    "private_keys=find_private_key_list(potential_pair)"
   ]
  },
  {
   "cell_type": "code",
   "execution_count": 35,
   "metadata": {},
   "outputs": [
    {
     "name": "stdout",
     "output_type": "stream",
     "text": [
      "These 2 hairstyles that have the hair all drawn back, either loose or braided, & cinched, may be found on a farmer's daughter\n",
      "\n"
     ]
    }
   ],
   "source": [
    "plain_text=Decrypt_AES(private_keys,cipher_text)"
   ]
  },
  {
   "cell_type": "code",
   "execution_count": 36,
   "metadata": {},
   "outputs": [
    {
     "data": {
      "text/plain": [
       "\"These 2 hairstyles that have the hair all drawn back, either loose or braided, & cinched, may be found on a farmer's daughter\\n\""
      ]
     },
     "execution_count": 36,
     "metadata": {},
     "output_type": "execute_result"
    }
   ],
   "source": [
    "plain_text"
   ]
  },
  {
   "cell_type": "code",
   "execution_count": null,
   "metadata": {},
   "outputs": [],
   "source": []
  }
 ],
 "metadata": {
  "kernelspec": {
   "display_name": "Python 2",
   "language": "python",
   "name": "python2"
  },
  "language_info": {
   "codemirror_mode": {
    "name": "ipython",
    "version": 2
   },
   "file_extension": ".py",
   "mimetype": "text/x-python",
   "name": "python",
   "nbconvert_exporter": "python",
   "pygments_lexer": "ipython2",
   "version": "2.7.15"
  }
 },
 "nbformat": 4,
 "nbformat_minor": 2
}
