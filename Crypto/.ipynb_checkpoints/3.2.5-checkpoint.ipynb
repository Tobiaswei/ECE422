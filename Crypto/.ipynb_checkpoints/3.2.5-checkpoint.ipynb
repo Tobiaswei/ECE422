{
 "cells": [
  {
   "cell_type": "code",
   "execution_count": 30,
   "metadata": {},
   "outputs": [],
   "source": [
    "from fractions import gcd\n",
    "from Crypto.PublicKey import RSA\n",
    "import struct\n",
    "import re\n",
    "from Crypto.PublicKey import RSA\n",
    "from Crypto.Cipher import AES\n",
    "from Crypto import Random\n",
    "from Crypto.Cipher import PKCS1_v1_5\n",
    "import mp3_certbuilder\n",
    "from cryptography import x509\n",
    "from cryptography.x509.oid import NameOID\n",
    "from cryptography.hazmat.backends import default_backend\n",
    "from cryptography.hazmat.primitives import hashes\n",
    "from cryptography.hazmat.primitives.serialization import Encoding\n",
    "from cryptography.hazmat.primitives.asymmetric import rsa\n",
    "from Crypto.Util import number\n",
    "import datetime\n",
    "import hashlib\n",
    "def getCoprimes(e=65537):\n",
    "    bitsize=512\n",
    "    p1,p2=-1,-1\n",
    "    while p1==p2:\n",
    "        p1=number.getStrongPrime(bitsize,e)\n",
    "        p2=number.getStrongPrime(bitsize,e)\n",
    "    assert(gcd(e,p1-1)==1)\n",
    "    assert(gcd(e,p2-1)==1)\n",
    "    return p1,p2\n",
    "def getCRT(b1,b2,p1,p2):\n",
    "    N=p1*p2\n",
    "    invone=number.inverse(p2,p1)\n",
    "    invtwo=number.inverse(p1,p2)\n",
    "    return -(b1*invone*p2+b2*invtwo*p1)%N"
   ]
  },
  {
   "cell_type": "code",
   "execution_count": 31,
   "metadata": {},
   "outputs": [],
   "source": [
    "# step 1\n",
    "#python mp3-certbuilder.py {netid} {output filename}.cer\n"
   ]
  },
  {
   "cell_type": "code",
   "execution_count": 283,
   "metadata": {},
   "outputs": [],
   "source": [
    "p = number.getPrime(1024)\n",
    "q = number.getPrime(1024)\n",
    "#mp3_certbuilder.make_privkey(p,q)\n",
    "assert(p.bit_length() == 1024) #and\n",
    "assert(q.bit_length() == 1024)\n",
    "assert((p*q).bit_length() == 2047)"
   ]
  },
  {
   "cell_type": "code",
   "execution_count": 295,
   "metadata": {},
   "outputs": [],
   "source": [
    "assert(p.bit_length() == 1024) #and\n",
    "assert(q.bit_length() == 1024)\n",
    "assert((p*q).bit_length() == 2047)"
   ]
  },
  {
   "cell_type": "code",
   "execution_count": 296,
   "metadata": {},
   "outputs": [
    {
     "name": "stdout",
     "output_type": "stream",
     "text": [
      "md5 of cert.tbs_certificate_bytes: 14e5e3e31387810d9366e43dc5719741\n",
      "try the following command: openssl x509 -in file0.cer -inform der -text -noout\n"
     ]
    }
   ],
   "source": [
    "prik,pubk=mp3_certbuilder.make_privkey(p,q)\n",
    "cert_0=mp3_certbuilder.make_cert(netid, pubk)\n",
    "outfile=\"file0.cer\"\n",
    "print 'md5 of cert.tbs_certificate_bytes:', hashlib.md5(cert_0.tbs_certificate_bytes).hexdigest()\n",
    "with open(outfile, 'wb') as f:\n",
    "    f.write(cert_0.public_bytes(Encoding.DER))\n",
    "    print 'try the following command: openssl x509 -in %s -inform der -text -noout' % outfile"
   ]
  },
  {
   "cell_type": "code",
   "execution_count": 521,
   "metadata": {},
   "outputs": [
    {
     "data": {
      "text/plain": [
       "256"
      ]
     },
     "execution_count": 521,
     "metadata": {},
     "output_type": "execute_result"
    }
   ],
   "source": [
    "prefix=cert_0.tbs_certificate_bytes[:256]\n",
    "len(prefix)\n"
   ]
  },
  {
   "cell_type": "code",
   "execution_count": 523,
   "metadata": {},
   "outputs": [],
   "source": [
    "with open (\"prefix\",'wb') as f:\n",
    "    f.write(prefix)"
   ]
  },
  {
   "cell_type": "code",
   "execution_count": 598,
   "metadata": {},
   "outputs": [
    {
     "name": "stdout",
     "output_type": "stream",
     "text": [
      "MD5 collision generator v1.5\n",
      "by Marc Stevens (http://www.win.tue.nl/hashclash/)\n",
      "\n",
      "Using output filenames: 'file1' and 'file2'\n",
      "Using prefixfile: 'prefix'\n",
      "Using initial value: ca7c5df46b1ed6d1d7e3148e81d4540b\n",
      "\n",
      "Generating first block: ...........\n",
      "Generating second block: S10.............................................................\n",
      "Running time: 3.43531 s\n"
     ]
    }
   ],
   "source": [
    "while 1:\n",
    "    ! ./fastcoll -p prefix -o file1 file2\n",
    "    with open (\"file1\",\"rb\") as f1:\n",
    "        b1=f1.read()\n",
    "        b1=b1[255:-1]\n",
    "    with open(\"file2\",\"rb\") as f2:\n",
    "        b2=f2.read()\n",
    "        b2=b2[255:-1]\n",
    "    b_1=int(b1.encode('hex'),16)\n",
    "    b_2=int(b2.encode('hex'),16)\n",
    "    if (b_1.bit_length()==1023) and  (b_2.bit_length()==1023):\n",
    "         break\n",
    "\n",
    "\n"
   ]
  },
  {
   "cell_type": "code",
   "execution_count": 599,
   "metadata": {},
   "outputs": [],
   "source": [
    "assert b_1.bit_length()==1023"
   ]
  },
  {
   "cell_type": "code",
   "execution_count": 297,
   "metadata": {},
   "outputs": [
    {
     "name": "stdout",
     "output_type": "stream",
     "text": [
      "Certificate:\r\n",
      "    Data:\r\n",
      "        Version: 3 (0x2)\r\n",
      "        Serial Number:\r\n",
      "            56:b4:b9:7e:04:0f:2e:8a:26:69:5e:17:dc:fa:31:f8:35:10:1d:82\r\n",
      "        Signature Algorithm: md5WithRSAEncryption\r\n",
      "        Issuer: CN=ece422\r\n",
      "        Validity\r\n",
      "            Not Before: Mar  1 00:00:00 2017 GMT\r\n",
      "            Not After : Mar 27 00:00:00 2017 GMT\r\n",
      "        Subject: CN=yuguang2/pseudonym=unused, C=US, ST=Illinois\r\n",
      "        Subject Public Key Info:\r\n",
      "            Public Key Algorithm: rsaEncryption\r\n",
      "            RSA Public Key: (2047 bit)\r\n",
      "                Modulus (2047 bit):\r\n",
      "                    73:9b:58:b7:c6:13:04:5c:04:c5:6e:c2:d1:76:d3:\r\n",
      "                    74:3c:8f:fc:1f:55:b2:3f:d0:48:be:fb:86:84:1e:\r\n",
      "                    38:03:26:ab:39:28:e0:c5:30:20:1d:04:79:be:24:\r\n",
      "                    0f:2e:ca:c1:90:22:7e:61:12:e6:ae:4c:9c:44:a3:\r\n",
      "                    a2:16:a1:ee:48:af:a0:e6:3d:90:64:5a:6f:7c:06:\r\n",
      "                    00:af:34:33:78:82:cc:68:b8:16:f1:d7:6f:09:10:\r\n",
      "                    44:0f:6a:c7:f0:fe:6d:60:f9:2d:5b:b0:36:23:95:\r\n",
      "                    b6:27:fc:76:b2:c2:45:92:d1:32:b8:7b:ce:f9:74:\r\n",
      "                    ce:21:d5:df:85:6f:10:2a:3a:50:59:ee:0c:14:f2:\r\n",
      "                    ff:ba:61:06:c5:c2:48:fd:e5:43:cc:56:01:dc:9c:\r\n",
      "                    ad:a6:ca:4d:5f:3f:eb:4e:6d:f4:bc:cc:28:dc:d0:\r\n",
      "                    de:f3:77:c7:16:5a:9c:58:d4:1f:d6:3f:44:31:c2:\r\n",
      "                    da:68:6b:d0:a0:79:6f:6f:71:4f:ac:23:d4:76:d9:\r\n",
      "                    c9:5b:65:e9:6b:60:65:4f:49:10:9e:80:eb:a6:92:\r\n",
      "                    30:e3:f1:89:da:91:f2:74:7b:72:23:a8:9b:62:0b:\r\n",
      "                    ce:38:d6:14:36:42:7f:08:ff:5b:46:39:ab:61:b0:\r\n",
      "                    fb:9e:6c:3f:b4:ff:ed:08:cd:0d:79:dc:7c:fa:82:\r\n",
      "                    97\r\n",
      "                Exponent: 65537 (0x10001)\r\n",
      "    Signature Algorithm: md5WithRSAEncryption\r\n",
      "        49:e1:77:33:e4:45:d6:73:4e:6c:06:d7:cb:2d:d2:4d:c2:75:\r\n",
      "        3f:4f:a1:3b:13:41:0e:95:5c:f2:3c:88:6d:8c:5b:d4:6b:0a:\r\n",
      "        6b:46:87:b4:c4:ad:83:01:35:06:93:e8:cb:d6:c1:3c:e5:15:\r\n",
      "        ad:ed:9e:40:14:4c:e2:f6:49:78:a7:d7:69:c7:70:13:dc:c3:\r\n",
      "        c0:f5:da:e3:41:49:44:60:b8:81:9f:48:2c:2d:d4:e3:c9:49:\r\n",
      "        cb:23:5b:67:ae:a2:f3:57:b9:0a:e1:47:00:ec:13:e9:fd:be:\r\n",
      "        de:12:fe:56:12:8b:be:8d:f1:30:4d:1a:00:a0:cc:ad:f0:a1:\r\n",
      "        c1:de\r\n"
     ]
    }
   ],
   "source": [
    "!openssl x509 -in file0.cer -inform der -text -noout"
   ]
  },
  {
   "cell_type": "code",
   "execution_count": 563,
   "metadata": {},
   "outputs": [],
   "source": [
    "from binascii import hexlify\n",
    "\n"
   ]
  },
  {
   "cell_type": "code",
   "execution_count": 602,
   "metadata": {},
   "outputs": [],
   "source": [
    "# shift your b_1 and b_2 by 1024\n",
    "b_1*=2**1024\n",
    "b_2*=2**1024\n"
   ]
  },
  {
   "cell_type": "code",
   "execution_count": 608,
   "metadata": {},
   "outputs": [],
   "source": [
    "assert(b_2/b_1%(2**1024) == 0)\n"
   ]
  },
  {
   "cell_type": "code",
   "execution_count": 609,
   "metadata": {},
   "outputs": [],
   "source": [
    "#3------#3\n",
    "p1,p2=getCoprimes()"
   ]
  },
  {
   "cell_type": "code",
   "execution_count": 610,
   "metadata": {},
   "outputs": [],
   "source": [
    "b0=getCRT(b_1,b_2,p1,p2)"
   ]
  },
  {
   "cell_type": "code",
   "execution_count": 611,
   "metadata": {},
   "outputs": [
    {
     "data": {
      "text/plain": [
       "2047"
      ]
     },
     "execution_count": 611,
     "metadata": {},
     "output_type": "execute_result"
    }
   ],
   "source": [
    "b_1.bit_length()"
   ]
  },
  {
   "cell_type": "code",
   "execution_count": 612,
   "metadata": {},
   "outputs": [
    {
     "data": {
      "text/plain": [
       "(True, True, True, True)"
      ]
     },
     "execution_count": 612,
     "metadata": {},
     "output_type": "execute_result"
    }
   ],
   "source": [
    "gcd(b_1+b0, p1) == p1, gcd(b_2+b0, p2) == p2, (b_1+ b0) % p1 == 0, (b_2+b0) % p2 == 0"
   ]
  },
  {
   "cell_type": "code",
   "execution_count": 636,
   "metadata": {},
   "outputs": [],
   "source": [
    "\n",
    "b=0\n",
    "while 1:\n",
    "    b=b0+k*p1*p2\n",
    "    if(number.isPrime((b_1+b)/p1) and number.isPrime((b_2+b)/p2) and gcd((b_1+b)/p1-1,e)==1 and gcd((b_2+b)/p2-1,e)==1):\n",
    "        #print('find k :{}'.fomart(k))\n",
    "        break\n",
    "    else:\n",
    "        k=k+1\n",
    "        \n",
    "    "
   ]
  },
  {
   "cell_type": "code",
   "execution_count": 635,
   "metadata": {},
   "outputs": [
    {
     "data": {
      "text/plain": [
       "179592"
      ]
     },
     "execution_count": 635,
     "metadata": {},
     "output_type": "execute_result"
    }
   ],
   "source": [
    "k"
   ]
  },
  {
   "cell_type": "code",
   "execution_count": 577,
   "metadata": {},
   "outputs": [],
   "source": [
    "b=b0+k*p1*p2"
   ]
  },
  {
   "cell_type": "code",
   "execution_count": 578,
   "metadata": {},
   "outputs": [],
   "source": [
    "q1=(b_1+b)/p1\n",
    "q2=(b_2+b)/p2"
   ]
  },
  {
   "cell_type": "code",
   "execution_count": 618,
   "metadata": {},
   "outputs": [],
   "source": [
    "n1=b+b_1\n",
    "n2=b+b_2"
   ]
  },
  {
   "cell_type": "code",
   "execution_count": 619,
   "metadata": {},
   "outputs": [
    {
     "data": {
      "text/plain": [
       "2047"
      ]
     },
     "execution_count": 619,
     "metadata": {},
     "output_type": "execute_result"
    }
   ],
   "source": [
    "n1.bit_length()"
   ]
  },
  {
   "cell_type": "code",
   "execution_count": 620,
   "metadata": {},
   "outputs": [],
   "source": [
    "privkey1,pubkey1=mp3_certbuilder.make_privkey(p1,q1)"
   ]
  },
  {
   "cell_type": "code",
   "execution_count": 621,
   "metadata": {},
   "outputs": [],
   "source": [
    "privkey2,pubkey2=mp3_certbuilder.make_privkey(p2,q2)"
   ]
  },
  {
   "cell_type": "code",
   "execution_count": 622,
   "metadata": {},
   "outputs": [
    {
     "name": "stdout",
     "output_type": "stream",
     "text": [
      "md5 of cert.tbs_certificate_bytes: 0b10d12b4c0aab50177f034e1d011c12\n",
      "try the following command: openssl x509 -in outfile1.cer -inform der -text -noout\n"
     ]
    }
   ],
   "source": [
    "netid=\"yuguang2\"\n",
    "outfile=\"outfile1.cer\"\n",
    "cert = mp3_certbuilder.make_cert(netid, pubkey1)\n",
    "print 'md5 of cert.tbs_certificate_bytes:', hashlib.md5(cert.tbs_certificate_bytes).hexdigest()\n",
    "with open(outfile, 'wb') as f:\n",
    "    f.write(cert.public_bytes(Encoding.DER))\n",
    "    print 'try the following command: openssl x509 -in %s -inform der -text -noout' % outfile\n",
    "        \n",
    "    \n",
    "       \n",
    "    "
   ]
  },
  {
   "cell_type": "code",
   "execution_count": 623,
   "metadata": {},
   "outputs": [
    {
     "name": "stdout",
     "output_type": "stream",
     "text": [
      "Certificate:\r\n",
      "    Data:\r\n",
      "        Version: 3 (0x2)\r\n",
      "        Serial Number:\r\n",
      "            56:b4:b9:7e:04:0f:2e:8a:26:69:5e:17:dc:fa:31:f8:35:10:1d:82\r\n",
      "        Signature Algorithm: md5WithRSAEncryption\r\n",
      "        Issuer: CN=ece422\r\n",
      "        Validity\r\n",
      "            Not Before: Mar  1 00:00:00 2017 GMT\r\n",
      "            Not After : Mar 27 00:00:00 2017 GMT\r\n",
      "        Subject: CN=yuguang2/pseudonym=unused, C=US, ST=Illinois\r\n",
      "        Subject Public Key Info:\r\n",
      "            Public Key Algorithm: rsaEncryption\r\n",
      "            RSA Public Key: (2047 bit)\r\n",
      "                Modulus (2047 bit):\r\n",
      "                    42:d2:4d:77:ae:19:da:54:7e:1d:b3:4e:6c:b8:17:\r\n",
      "                    99:95:8d:0e:08:f5:d7:1d:d4:e5:8e:f0:e2:24:9a:\r\n",
      "                    de:b4:c5:4f:ef:6d:e9:3f:b2:1f:b2:9c:90:3b:b3:\r\n",
      "                    1a:4d:c3:c7:0d:19:68:23:f6:fb:98:b0:47:0e:62:\r\n",
      "                    70:b4:73:2a:49:1a:99:97:22:57:a6:5b:99:8e:f6:\r\n",
      "                    b2:be:f8:e6:94:6c:5d:8e:df:7b:7c:2e:92:9d:59:\r\n",
      "                    75:b7:88:fe:a0:9f:2e:d8:e4:41:ed:6b:cf:a2:94:\r\n",
      "                    d2:00:9f:a5:d3:36:51:96:6c:9e:cf:fc:e7:f0:74:\r\n",
      "                    ca:cb:a3:5c:aa:b7:e8:a1:b9:c4:db:d8:0d:3e:36:\r\n",
      "                    8a:87:f4:c2:bf:95:b9:9f:80:a7:7d:28:77:b2:ad:\r\n",
      "                    21:df:bf:f7:0e:95:85:cb:f6:6b:1e:93:a5:da:92:\r\n",
      "                    2c:01:50:b7:2d:32:85:f3:9b:76:61:76:a3:a2:9f:\r\n",
      "                    b1:fd:51:ae:9f:ec:aa:6a:a4:92:7e:54:de:10:69:\r\n",
      "                    5a:ad:7a:6e:f4:8f:4f:4b:dc:2c:52:66:b8:e6:0a:\r\n",
      "                    55:1d:be:4c:52:3f:04:f6:e9:c6:e1:ad:3e:b0:87:\r\n",
      "                    9b:2a:b3:fb:dc:00:8a:e1:fa:0b:23:4a:d0:45:0f:\r\n",
      "                    ae:c9:6b:f0:0f:03:1e:1d:bf:73:5e:a6:ec:91:ae:\r\n",
      "                    83\r\n",
      "                Exponent: 65537 (0x10001)\r\n",
      "    Signature Algorithm: md5WithRSAEncryption\r\n",
      "        4a:68:d6:04:7a:c7:ff:37:27:74:7e:00:a0:2b:ca:91:59:42:\r\n",
      "        c6:0e:73:e2:c8:56:6c:c8:0c:ca:87:e9:f6:3e:26:3f:cf:51:\r\n",
      "        98:42:76:57:c8:37:c6:b3:aa:b6:c1:5a:0a:f5:eb:0b:83:45:\r\n",
      "        3b:86:f2:f3:6b:fc:f1:2f:3a:40:9e:12:b6:7e:92:da:20:2f:\r\n",
      "        21:1d:75:8d:9d:fc:7b:5a:ec:80:68:fd:65:77:c6:7a:66:9b:\r\n",
      "        67:9d:ba:b6:90:a4:f6:95:c3:f0:97:0f:23:e1:63:01:4d:1d:\r\n",
      "        a5:ea:46:e0:eb:9a:1d:d2:74:d1:05:03:f6:a2:da:16:ff:e6:\r\n",
      "        62:eb\r\n"
     ]
    }
   ],
   "source": [
    "!openssl x509 -in outfile1.cer -inform der -text -noout"
   ]
  },
  {
   "cell_type": "code",
   "execution_count": 624,
   "metadata": {},
   "outputs": [
    {
     "name": "stdout",
     "output_type": "stream",
     "text": [
      "md5 of cert.tbs_certificate_bytes: 1a0612a7609fa5763afe2617f6caa1ed\n",
      "try the following command: openssl x509 -in outfile2.cer -inform der -text -noout\n"
     ]
    }
   ],
   "source": [
    "netid=\"yuguang2\"\n",
    "outfile=\"outfile2.cer\"\n",
    "cert2 = mp3_certbuilder.make_cert(netid, pubkey2)\n",
    "print 'md5 of cert.tbs_certificate_bytes:', hashlib.md5(cert2.tbs_certificate_bytes).hexdigest()\n",
    "with open(outfile, 'wb') as f:\n",
    "    f.write(cert2.public_bytes(Encoding.DER))\n",
    "    print 'try the following command: openssl x509 -in %s -inform der -text -noout' % outfile"
   ]
  },
  {
   "cell_type": "code",
   "execution_count": 625,
   "metadata": {},
   "outputs": [
    {
     "name": "stdout",
     "output_type": "stream",
     "text": [
      "Certificate:\r\n",
      "    Data:\r\n",
      "        Version: 3 (0x2)\r\n",
      "        Serial Number:\r\n",
      "            56:b4:b9:7e:04:0f:2e:8a:26:69:5e:17:dc:fa:31:f8:35:10:1d:82\r\n",
      "        Signature Algorithm: md5WithRSAEncryption\r\n",
      "        Issuer: CN=ece422\r\n",
      "        Validity\r\n",
      "            Not Before: Mar  1 00:00:00 2017 GMT\r\n",
      "            Not After : Mar 27 00:00:00 2017 GMT\r\n",
      "        Subject: CN=yuguang2/pseudonym=unused, C=US, ST=Illinois\r\n",
      "        Subject Public Key Info:\r\n",
      "            Public Key Algorithm: rsaEncryption\r\n",
      "            RSA Public Key: (2047 bit)\r\n",
      "                Modulus (2047 bit):\r\n",
      "                    4e:2e:b2:d8:ee:6c:1c:c9:e2:04:33:12:20:fc:52:\r\n",
      "                    32:7f:d3:3a:ed:51:69:6c:a6:a6:c6:2e:b5:a3:ee:\r\n",
      "                    41:97:8d:07:13:83:f7:7f:65:81:4c:db:6b:47:9a:\r\n",
      "                    b2:c5:5e:89:93:93:be:fa:12:51:8a:ad:1b:ac:d6:\r\n",
      "                    df:70:22:16:88:00:db:0e:51:c6:3c:fc:f4:a2:ce:\r\n",
      "                    fa:e9:bf:e0:d2:b5:e0:f0:d3:1b:37:02:f7:1c:5a:\r\n",
      "                    d0:c5:9b:dd:0f:4e:9b:37:64:0f:f1:ab:9b:63:d2:\r\n",
      "                    b8:7b:35:0d:de:c6:00:fe:af:9c:a6:54:7c:c4:eb:\r\n",
      "                    b8:25:96:42:ef:fd:e6:11:7d:0f:22:dc:7a:04:79:\r\n",
      "                    15:f8:fd:50:88:5b:62:f9:2d:b3:1f:9a:10:f8:f1:\r\n",
      "                    f4:82:23:52:3d:5e:a6:22:51:af:9f:02:50:de:7e:\r\n",
      "                    c7:cd:92:59:dd:62:32:5c:c0:dd:90:7d:5e:09:01:\r\n",
      "                    87:0f:b3:68:df:f3:e4:ed:c2:7e:5f:a8:7c:db:4d:\r\n",
      "                    d3:fd:b7:67:ee:68:3c:ca:3d:6a:9a:f8:7a:1c:4f:\r\n",
      "                    2f:79:d8:8d:6b:27:f6:29:e0:b0:30:b2:78:dc:62:\r\n",
      "                    71:b4:e4:51:b0:cf:d6:a0:fb:38:a6:5e:00:b0:6f:\r\n",
      "                    88:1b:8b:f7:30:ff:1c:de:d4:5f:90:bf:9e:e2:2a:\r\n",
      "                    b5\r\n",
      "                Exponent: 65537 (0x10001)\r\n",
      "    Signature Algorithm: md5WithRSAEncryption\r\n",
      "        1a:56:dc:56:6d:66:9b:0b:fc:7f:b1:f9:c1:0a:8d:9f:20:20:\r\n",
      "        42:ed:11:81:f7:50:9d:11:dd:12:dc:2c:fb:44:43:25:b6:00:\r\n",
      "        cc:83:30:b7:b3:5b:b2:b5:1e:cb:5d:9b:fb:bd:c9:34:f6:ae:\r\n",
      "        32:90:2f:97:d6:a9:e1:7f:9a:ff:f0:3b:3a:39:b1:46:6a:4f:\r\n",
      "        94:31:8d:c7:3f:ac:0e:d5:e0:97:15:10:82:3b:f9:d6:a1:d3:\r\n",
      "        35:01:66:2d:4c:08:24:8a:3f:dd:a7:c2:90:10:5b:64:c7:13:\r\n",
      "        99:fb:0f:cd:9e:cd:13:28:29:dc:cc:99:03:12:94:83:2e:b5:\r\n",
      "        7e:ea\r\n"
     ]
    }
   ],
   "source": [
    "!openssl x509 -in outfile2.cer -inform der -text -noout"
   ]
  },
  {
   "cell_type": "code",
   "execution_count": 591,
   "metadata": {},
   "outputs": [
    {
     "data": {
      "text/plain": [
       "False"
      ]
     },
     "execution_count": 591,
     "metadata": {},
     "output_type": "execute_result"
    }
   ],
   "source": [
    "pubkey1==pubkey2"
   ]
  },
  {
   "cell_type": "code",
   "execution_count": 592,
   "metadata": {},
   "outputs": [
    {
     "data": {
      "text/plain": [
       "False"
      ]
     },
     "execution_count": 592,
     "metadata": {},
     "output_type": "execute_result"
    }
   ],
   "source": [
    "cert==cert2"
   ]
  }
 ],
 "metadata": {
  "kernelspec": {
   "display_name": "Python 2",
   "language": "python",
   "name": "python2"
  },
  "language_info": {
   "codemirror_mode": {
    "name": "ipython",
    "version": 2
   },
   "file_extension": ".py",
   "mimetype": "text/x-python",
   "name": "python",
   "nbconvert_exporter": "python",
   "pygments_lexer": "ipython2",
   "version": "2.7.15"
  }
 },
 "nbformat": 4,
 "nbformat_minor": 2
}
