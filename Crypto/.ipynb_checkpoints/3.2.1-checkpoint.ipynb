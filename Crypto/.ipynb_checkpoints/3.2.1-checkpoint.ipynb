{
 "cells": [
  {
   "cell_type": "code",
   "execution_count": 75,
   "metadata": {},
   "outputs": [],
   "source": [
    "from pymd5 import md5\n",
    "from pymd5 import padding\n",
    "import sys\n",
    "from urllib import quote"
   ]
  },
  {
   "cell_type": "code",
   "execution_count": 648,
   "metadata": {
    "scrolled": true
   },
   "outputs": [
    {
     "name": "stdout",
     "output_type": "stream",
     "text": [
      "extracting block: 0\n",
      "extracting block: 1\n",
      "extracting block: 2\n",
      "extracting block: 3\n",
      "extracting block: 4\n",
      "extracting block: 5\n",
      "extracting block: 6\n",
      "This cartoon mouse, Pinky's partner, once went on \"Gyp-Parody\" to win money to take over the world\n",
      "\f",
      "\u000b",
      "\u000e\n",
      "\u0007\u0006\u0005\u0004\n"
     ]
    }
   ],
   "source": [
    "import binascii\n",
    "\n",
    "base_url = \"http://72.36.89.198:8081/mp3/yuguang2/?\"\n",
    "\n",
    "import urllib2\n",
    "def get_status(u):\n",
    "    req = urllib2.Request(u)\n",
    "    try:\n",
    "        f = urllib2.urlopen(req)\n",
    "        return f.code\n",
    "    except urllib2.HTTPError, e:\n",
    "        # print e.read().strip()\n",
    "        return e.code\n",
    "\n",
    "with open(\"3.2.3_ciphertext.hex\") as fd:\n",
    "    text = fd.readlines()[0];\n",
    "\n",
    "blocks = []\n",
    "for i in range(len(text)/32):\n",
    "    blocks.append(text[i*32:(i+1)*32])\n",
    "\n",
    "padding = range(0x10, 0, -1)\n",
    "\n",
    "def extract_plaintext_from_block(block_idx, blocks):\n",
    "\n",
    "    c_curr = blocks[block_idx]\n",
    "    c_prev = []\n",
    "    for i in range(0x10):\n",
    "        c_prev.append(int(blocks[block_idx - 1][i*2:i*2+2], 16))\n",
    "\n",
    "    p_ = [0]*16\n",
    "    i_ = [0]*16\n",
    "\n",
    "    # SOLVE FOR POSITION\n",
    "    for position in range(0xF, -1, -1):\n",
    "\n",
    "        p_prime = [0]*position + padding[:0x10-position]\n",
    "\n",
    "        c_prime = [0]*16\n",
    "        for i in range(position, 0x10):\n",
    "            if i > position:\n",
    "                c_prime[i] = p_prime[i] ^ i_[i]\n",
    "\n",
    "        # print(\"POSITION: \" + str(position))\n",
    "        # print(p_)\n",
    "        # print(i_)\n",
    "        # print(\"\")\n",
    "\n",
    "        # print(p_prime)\n",
    "        # print(c_prime)\n",
    "        # print(\"\")\n",
    "\n",
    "        # SOLVE FOR VAL\n",
    "        val = False\n",
    "        for i in range(0x100):\n",
    "            c_prime[position] = i\n",
    "            arg = ''.join('{:02x}'.format(c) for c in c_prime)\n",
    "            status = get_status(base_url + arg + c_curr)\n",
    "            if status == 404:\n",
    "                val = True\n",
    "                break\n",
    "\n",
    "        if not val:\n",
    "            print(\"FAILED TO FIND CORRECT PADDING\")\n",
    "            exit(1)\n",
    "\n",
    "        # SOLVE FOR I2 and P2\n",
    "        i_[position] = c_prime[position] ^ p_prime[position]# P_p\n",
    "        p_[position] = c_prev[position] ^ i_[position]\n",
    "\n",
    "    # print(\"FINISHED\")\n",
    "    return p_\n",
    "\n",
    "\n",
    "plain_text = []\n",
    "for i in range(1, len(blocks)):\n",
    "    print(\"extracting block: \" + str(i-1))\n",
    "    p_ = extract_plaintext_from_block(i, blocks)\n",
    "    plain_text += p_\n",
    "\n",
    "human_readable_plain_text = ''.join(chr(p) for p in plain_text)\n",
    "print(human_readable_plain_text)"
   ]
  },
  {
   "cell_type": "code",
   "execution_count": 794,
   "metadata": {},
   "outputs": [
    {
     "name": "stdout",
     "output_type": "stream",
     "text": [
      "Calculating Product Tree...\n",
      "Calculating Squares...\n",
      "Calculating Remainder Tree...\n",
      "Calculating GCD...\n",
      "Calculating Private Keys...\n",
      "Printing Results...\n",
      "These 2 hairstyles that have the hair all drawn back, either loose or braided, & cinched, may be found on a farmer's daughter\n",
      "\n"
     ]
    }
   ],
   "source": [
    "import pbp\n",
    "from math import floor\n",
    "from fractions import gcd\n",
    "from Crypto.PublicKey import RSA\n",
    "\n",
    "# Sources:\n",
    "# product_tree(): https://facthacks.cr.yp.to/product.html\n",
    "# remainder_tree(0): https://facthacks.cr.yp.to/remainder.html\n",
    "# find_gcds(): https://facthacks.cr.yp.to/batchgcd.html\n",
    "# egcd() and modinv(): https://stackoverflow.com/questions/4798654/modular-multiplicative-inverse-function-in-python\n",
    "\n",
    "def product_tree(X):\n",
    "    result = [X]\n",
    "    while len(result[-1]) > 1:\n",
    "        X = result[-1]\n",
    "        Y = []\n",
    "        L = len(X)\n",
    "\n",
    "        Y = [X[i*2]*X[i*2+1] for i in range(L/2)]\n",
    "        if L % 2 == 1:\n",
    "            Y.append(X[L-1])\n",
    "\n",
    "        result.append(Y)\n",
    "    return (result[-1][0], result)\n",
    "\n",
    "def square(X):\n",
    "    Y = []\n",
    "    for i in range(len(X)):\n",
    "        Y.append([X[i][j]**2 for j in range(len(X[i]))])\n",
    "    return Y\n",
    "\n",
    "def remainder_tree(P, product_tree):\n",
    "\tresult = [P]\n",
    "\tfor node in reversed(product_tree):\n",
    "\t\t# print(result, node)\n",
    "\t\tresult = [result[i//2] % node[i] for i in range(len(node))]\n",
    "\t\t# print(result, node)\n",
    "\treturn result\n",
    "\n",
    "def find_gcds(R, X):\n",
    "\tV = [gcd(r/n, n) for r, n in zip(R, X)]\n",
    "\tresult = []\n",
    "\tfor i in range(len(V)):\n",
    "\t\tif V[i] != 1:\n",
    "\t\t\tresult.append((V[i], X[i]))\n",
    "\treturn result\n",
    "\n",
    "def egcd(a, b):\n",
    "    if a == 0:\n",
    "        return (b, 0, 1)\n",
    "    else:\n",
    "        g, y, x = egcd(b % a, a)\n",
    "        return (g, x - (b // a) * y, y)\n",
    "\n",
    "def modinv(a, m):\n",
    "    g, x, y = egcd(a, m)\n",
    "    if g != 1:\n",
    "        raise Exception('modular inverse does not exist')\n",
    "    else:\n",
    "        return x % m\n",
    "\n",
    "def find_private_keys(potential_moduli):\n",
    "\te = long(65537)\n",
    "\tprivate_keys = []\n",
    "\tfor i in range(len(potential_moduli)):\n",
    "\t\tp = potential_moduli[i][0]\n",
    "\t\tN = potential_moduli[i][1]\n",
    "\t\tq = N//p\n",
    "\t\td = modinv(e, (p - 1)*(q - 1))\n",
    "\t\tprivate_keys.append(RSA.construct((long(N), long(e), long(d))))\n",
    "\treturn private_keys\n",
    "\n",
    "def print_results(private_keys, cipher_content, out):\n",
    "\tfor key in private_keys:\n",
    "\t\ttry:\n",
    "\t\t\tplaintext = pbp.decrypt(key, cipher_content)\n",
    "\t\t\tprint(plaintext)\n",
    "\t\t\tout.write(plaintext)\n",
    "\t\texcept ValueError:\n",
    "\t\t\ta = 1\n",
    "\n",
    "with open(\"moduli.hex\") as moduli, open(\"3.2.4_ciphertext.enc.asc\") as cipher, open(\"sol_3.2.4.txt\", 'w') as out:\n",
    "\tmoduli_list = [i.strip() for i in moduli.readlines()]\n",
    "\tcipher_content = cipher.read().replace(\"\\r\\n\", \"\\n\")\n",
    "\n",
    "\t# Convert to integer values\n",
    "\tfor i in range(0, len(moduli_list)):\n",
    "\t\tmoduli_list[i] = int(moduli_list[i], 16)\n",
    "\n",
    "\t# moduli_list = [1909,2923,291,205,989,62,451,1943,1079,2419]\n",
    "\n",
    "\tprint(\"Calculating Product Tree...\")\n",
    "\t(P, product_tree) = product_tree(moduli_list)\n",
    "\n",
    "\tprint(\"Calculating Squares...\")\n",
    "\tproduct_tree = square(product_tree)\n",
    "\n",
    "\tprint(\"Calculating Remainder Tree...\")\n",
    "\tremainder_tree = remainder_tree(P, product_tree)\n",
    "\n",
    "\tprint(\"Calculating GCD...\")\n",
    "\tpotential_moduli = find_gcds(remainder_tree, moduli_list) # Tuple form (gcd, moduli)\n",
    "\n",
    "\t# with open(\"gcdkey.txt\") as gcdkey:\n",
    "\t# \tpotential_moduli = [tuple(map(int, i.split(\", \"))) for i in gcdkey]\n",
    "\n",
    "\tprint(\"Calculating Private Keys...\")\n",
    "\tprivate_keys = find_private_keys(potential_moduli)\n",
    "\n",
    "\tprint(\"Printing Results...\")\n",
    "\tprint_results(private_keys, cipher_content, out)"
   ]
  },
  {
   "cell_type": "code",
   "execution_count": 797,
   "metadata": {},
   "outputs": [
    {
     "data": {
      "text/plain": [
       "['-----BEGIN PRETTY BAD ENCRYPTED MESSAGE-----',\n",
       " 'gAAAAJGHKUppUoHyJMjG/9g3qO/Q0vZjLfdnDEidUoEJ8nkaME4GYzghvpqY5Cytypc/mvdX/MuX',\n",
       " 'BZ66cDQUggweoSjMMFFZ0NwiuO8uOUGHIixxsEguHAa7NaRTywbQYfdRTA4bgGjb9XPxLKop6eav',\n",
       " '66b83EfT9CYJfTipiqz9NNlKlaCWgCniX20saZB7R078Y1dC8nnfq3mjseh9inE7RVjn6lqfk6QF',\n",
       " 'jy+y2sUvHdUAi6+tlu8+lG6o4KAn5zzvLT6TtM7qlle+YG66jTFc+xQEcUg3LFnC6xwcUh3GFb1e',\n",
       " 'EifNZzQIHqtYqM6Q/CauDECtoaX6RGe3APK82EmEeWcihb3dgqV6H5Juz8TBfOw6',\n",
       " '-----END PRETTY BAD ENCRYPTED MESSAGE-----']"
      ]
     },
     "execution_count": 797,
     "metadata": {},
     "output_type": "execute_result"
    }
   ],
   "source": [
    "cipher_text"
   ]
  },
  {
   "cell_type": "code",
   "execution_count": 700,
   "metadata": {},
   "outputs": [
    {
     "data": {
      "text/plain": [
       "'This cartoon mouse, Pinky\\'s partner, once went on \"Gyp-Parody\" to win money to take over the world\\n\\x10\\x0f\\x0e\\r\\x0c\\x0b\\n\\t\\x08\\x07\\x06\\x05\\x04'"
      ]
     },
     "execution_count": 700,
     "metadata": {},
     "output_type": "execute_result"
    }
   ],
   "source": [
    "human_readable_plain_text"
   ]
  },
  {
   "cell_type": "code",
   "execution_count": 4,
   "metadata": {},
   "outputs": [
    {
     "name": "stdout",
     "output_type": "stream",
     "text": [
      "3ecc68efa1871751ea9b0b1a5b25004d\n"
     ]
    }
   ],
   "source": [
    "m=\"Use HMAC, not hashes\"\n",
    "h=md5()\n",
    "h.update(m)\n",
    "print h.hexdigest()\n"
   ]
  },
  {
   "cell_type": "code",
   "execution_count": 5,
   "metadata": {},
   "outputs": [
    {
     "data": {
      "text/plain": [
       "32"
      ]
     },
     "execution_count": 5,
     "metadata": {},
     "output_type": "execute_result"
    }
   ],
   "source": [
    "len(h.hexdigest())"
   ]
  },
  {
   "cell_type": "code",
   "execution_count": 18,
   "metadata": {},
   "outputs": [
    {
     "name": "stdout",
     "output_type": "stream",
     "text": [
      "e1ca9db8eae1b8cbfacc63de828af6d0\n"
     ]
    }
   ],
   "source": [
    "h=md5(state=\"3ecc68efa1871751ea9b0b1a5b25004d\".decode(\"hex\"),count=512)\n",
    "x=\"Good advice\"\n",
    "h.update(x)\n",
    "print h.hexdigest()"
   ]
  },
  {
   "cell_type": "code",
   "execution_count": 91,
   "metadata": {},
   "outputs": [
    {
     "data": {
      "text/plain": [
       "'\\x80\\x00\\x00\\x00\\x00\\x00\\x00\\x00\\x00\\x00\\x00\\x00\\x00\\x00\\x00\\x00\\x00\\x00\\x00\\x00\\x00\\x00\\x00\\x00\\x00\\x00\\x00\\x00\\x00\\x00\\x00\\x00\\x00\\x00\\x00\\x00\\xa0\\x00\\x00\\x00\\x00\\x00\\x00\\x00'"
      ]
     },
     "execution_count": 91,
     "metadata": {},
     "output_type": "execute_result"
    }
   ],
   "source": [
    "padding(len(m)*8)"
   ]
  },
  {
   "cell_type": "code",
   "execution_count": 21,
   "metadata": {},
   "outputs": [
    {
     "name": "stdout",
     "output_type": "stream",
     "text": [
      "e1ca9db8eae1b8cbfacc63de828af6d0\n"
     ]
    }
   ],
   "source": [
    "string=m+padding(len(m)*8)+x\n",
    "print md5(string).hexdigest()"
   ]
  },
  {
   "cell_type": "code",
   "execution_count": 82,
   "metadata": {},
   "outputs": [],
   "source": [
    "def main():\n",
    "    query=open(sys.argv[1],\"r\")\n",
    "    command=open(sys.argv[2],\"r\")\n",
    "    output=open(sys.argv[3],\"w\")\n",
    "    \n",
    "    x=query.readlines()\n",
    "    token=x[0].split('&')[0].split(\"=\")[1]\n",
    "    user=x[0].split('&')[1]\n",
    "    command3=query.readlines()[0]\n",
    "    \n",
    "    \n",
    "    \n",
    "    new_token=md5(state=token.decode(\"hex\"),count=512)\n",
    "    new_token.update(command3)\n",
    "    \n",
    "    pad=quote(padding(len(user)*8+8*8))\n",
    "    command=\"token=\"+new_token.hexdigest()+'&'+user+pad+commad3\n",
    "    output.write(command)\n",
    "    \n",
    "    "
   ]
  },
  {
   "cell_type": "code",
   "execution_count": 81,
   "metadata": {},
   "outputs": [
    {
     "data": {
      "text/plain": [
       "'padding%28len%28user%29%2A8%2B8%2A8%29'"
      ]
     },
     "execution_count": 81,
     "metadata": {},
     "output_type": "execute_result"
    }
   ],
   "source": [
    "pad"
   ]
  },
  {
   "cell_type": "code",
   "execution_count": 89,
   "metadata": {},
   "outputs": [],
   "source": [
    "!python sol_3.2.1.2.py 3.2.1.2_query.txt 3.2.1.2_command3.txt sol_3.2.1.2.txt"
   ]
  },
  {
   "cell_type": "code",
   "execution_count": 6,
   "metadata": {},
   "outputs": [
    {
     "name": "stdout",
     "output_type": "stream",
     "text": [
      "Correct ciphertext!\r\n"
     ]
    }
   ],
   "source": [
    "!curl http://72.36.89.198:8081/mp3/yuguang2/?$(cat 3.2.3_ciphertext.hex)"
   ]
  },
  {
   "cell_type": "code",
   "execution_count": 7,
   "metadata": {},
   "outputs": [
    {
     "name": "stdout",
     "output_type": "stream",
     "text": [
      "Traceback (most recent call last):\r\n",
      "  File \"ece422-mp3-paddingoracle-server-standalone.py\", line 3, in <module>\r\n",
      "    from Crypto.Cipher import AES\r\n",
      "ImportError: No module named Crypto.Cipher\r\n"
     ]
    }
   ],
   "source": [
    "! python ece422-mp3-paddingoracle-server-standalone.py"
   ]
  },
  {
   "cell_type": "code",
   "execution_count": 60,
   "metadata": {},
   "outputs": [],
   "source": [
    "u=\"http://72.36.89.198:8081/mp3/yuguang2/?\""
   ]
  },
  {
   "cell_type": "code",
   "execution_count": null,
   "metadata": {},
   "outputs": [],
   "source": [
    "#valid padding r|y -->server "
   ]
  },
  {
   "cell_type": "code",
   "execution_count": 678,
   "metadata": {},
   "outputs": [],
   "source": [
    "import urllib2\n",
    "url=\"http://72.36.89.198:8081/mp3/yuguang2/?\"\n",
    "def get_status(u):\n",
    "    req=urllib2.Request(u)\n",
    "    try:\n",
    "        f=urllib2.urlopen(req)\n",
    "        return f.code\n",
    "    except urllib2.HTTPError,e:\n",
    "        return e.code\n",
    "# valid padding     \n",
    "def crack_block(y,b):\n",
    "    # Find the last oracle element \n",
    "    #r=[0xff]*16\n",
    "    r=[0]*16\n",
    "    x=[0]*16\n",
    "    for w in range(0xff,-1,-1):\n",
    "        r[15]=w    #format(w,'02x')\n",
    "        #print r[15]\n",
    "        r_block=''.join('{:02x}'.format(i)for i in r)\n",
    "        #print(r_block)\n",
    "        if valid_padding(r_block,y):\n",
    "            x[15]=w^0x10\n",
    "            print(\"find the last orcale {}\".format(r[15]))\n",
    "            break   \n",
    "    for j in range(14,-1,-1):\n",
    "        \n",
    "        for counter in range(j+1,b):\n",
    "            #print (type(0x10-(counter-j)),type(x[counter]))\n",
    "            r[counter]=(0x10-(counter-j))^x[counter]\n",
    "            \n",
    "            #r[counter]=format(temp,'02x') \n",
    "\n",
    "        for w in range(0xff,-1,-1):\n",
    "            r[j]=w   #format(w,'02x')\n",
    "            r_block=''.join('{:02x}'.format(i)for i in r)\n",
    "\n",
    "            if valid_padding(r_block,y):\n",
    "                x[j]=w^0x10\n",
    "                print(j,\"find oracle as\",x[j])\n",
    "                #break\n",
    "    print x\n",
    "    return x\n",
    "        \n",
    "    \n",
    "def valid_padding(r,y):\n",
    "    \n",
    "    query=url+r+y\n",
    "    if get_status(query)==404:\n",
    "        return True\n",
    "    else:\n",
    "        return False"
   ]
  },
  {
   "cell_type": "code",
   "execution_count": 679,
   "metadata": {},
   "outputs": [
    {
     "name": "stdout",
     "output_type": "stream",
     "text": [
      "find the last orcale 239\n",
      "(14, 'find oracle as', 127)\n",
      "(13, 'find oracle as', 252)\n",
      "(12, 'find oracle as', 185)\n",
      "(11, 'find oracle as', 252)\n",
      "(10, 'find oracle as', 178)\n",
      "(9, 'find oracle as', 67)\n",
      "(8, 'find oracle as', 151)\n",
      "(7, 'find oracle as', 215)\n",
      "(6, 'find oracle as', 230)\n",
      "(5, 'find oracle as', 15)\n",
      "(4, 'find oracle as', 240)\n",
      "(3, 'find oracle as', 127)\n",
      "(2, 'find oracle as', 115)\n",
      "(1, 'find oracle as', 207)\n",
      "(0, 'find oracle as', 102)\n",
      "[102, 207, 115, 127, 240, 15, 230, 215, 151, 67, 178, 252, 185, 252, 127, 255]\n",
      "find the last orcale 159\n",
      "(14, 'find oracle as', 217)\n",
      "(13, 'find oracle as', 37)\n",
      "(12, 'find oracle as', 252)\n",
      "(11, 'find oracle as', 71)\n",
      "(10, 'find oracle as', 176)\n",
      "(9, 'find oracle as', 154)\n",
      "(8, 'find oracle as', 133)\n",
      "(7, 'find oracle as', 12)\n",
      "(6, 'find oracle as', 146)\n",
      "(5, 'find oracle as', 82)\n",
      "(4, 'find oracle as', 71)\n",
      "(3, 'find oracle as', 184)\n",
      "(2, 'find oracle as', 216)\n",
      "(1, 'find oracle as', 170)\n",
      "(0, 'find oracle as', 72)\n",
      "[72, 170, 216, 184, 71, 82, 146, 12, 133, 154, 176, 71, 252, 37, 217, 143]\n",
      "find the last orcale 248\n",
      "(14, 'find oracle as', 109)\n",
      "(13, 'find oracle as', 204)\n",
      "(12, 'find oracle as', 1)\n",
      "(11, 'find oracle as', 48)\n",
      "(10, 'find oracle as', 16)\n",
      "(9, 'find oracle as', 19)\n",
      "(8, 'find oracle as', 40)\n",
      "(7, 'find oracle as', 46)\n",
      "(6, 'find oracle as', 51)\n",
      "(5, 'find oracle as', 227)\n",
      "(4, 'find oracle as', 194)\n",
      "(3, 'find oracle as', 78)\n",
      "(2, 'find oracle as', 185)\n",
      "(1, 'find oracle as', 8)\n",
      "(0, 'find oracle as', 202)\n",
      "[202, 8, 185, 78, 194, 227, 51, 46, 40, 19, 16, 48, 1, 204, 109, 232]\n",
      "find the last orcale 202\n",
      "(14, 'find oracle as', 68)\n",
      "(13, 'find oracle as', 70)\n",
      "(12, 'find oracle as', 186)\n",
      "(11, 'find oracle as', 158)\n",
      "(10, 'find oracle as', 186)\n",
      "(9, 'find oracle as', 169)\n",
      "(8, 'find oracle as', 249)\n",
      "(7, 'find oracle as', 77)\n",
      "(6, 'find oracle as', 42)\n",
      "(5, 'find oracle as', 201)\n",
      "(4, 'find oracle as', 178)\n",
      "(3, 'find oracle as', 189)\n",
      "(2, 'find oracle as', 113)\n",
      "(1, 'find oracle as', 50)\n",
      "(0, 'find oracle as', 207)\n",
      "[207, 50, 113, 189, 178, 201, 42, 77, 249, 169, 186, 158, 186, 70, 68, 218]\n",
      "find the last orcale 90\n",
      "(14, 'find oracle as', 47)\n",
      "(13, 'find oracle as', 215)\n",
      "(12, 'find oracle as', 39)\n",
      "(11, 'find oracle as', 0)\n",
      "(10, 'find oracle as', 57)\n",
      "(9, 'find oracle as', 81)\n",
      "(8, 'find oracle as', 196)\n",
      "(7, 'find oracle as', 206)\n",
      "(6, 'find oracle as', 23)\n",
      "(5, 'find oracle as', 14)\n",
      "(4, 'find oracle as', 85)\n",
      "(3, 'find oracle as', 195)\n",
      "(2, 'find oracle as', 34)\n",
      "(1, 'find oracle as', 251)\n",
      "(0, 'find oracle as', 160)\n",
      "[160, 251, 34, 195, 85, 14, 23, 206, 196, 81, 57, 0, 39, 215, 47, 74]\n",
      "find the last orcale 253\n",
      "(14, 'find oracle as', 116)\n",
      "(13, 'find oracle as', 245)\n",
      "(12, 'find oracle as', 160)\n",
      "(11, 'find oracle as', 73)\n",
      "(10, 'find oracle as', 125)\n",
      "(9, 'find oracle as', 5)\n",
      "(8, 'find oracle as', 203)\n",
      "(7, 'find oracle as', 197)\n",
      "(6, 'find oracle as', 111)\n",
      "(5, 'find oracle as', 175)\n",
      "(4, 'find oracle as', 151)\n",
      "(3, 'find oracle as', 162)\n",
      "(2, 'find oracle as', 100)\n",
      "(1, 'find oracle as', 57)\n",
      "(0, 'find oracle as', 71)\n",
      "[71, 57, 100, 162, 151, 175, 111, 197, 203, 5, 125, 73, 160, 245, 116, 237]\n",
      "find the last orcale 210\n",
      "(14, 'find oracle as', 195)\n",
      "(13, 'find oracle as', 226)\n",
      "(12, 'find oracle as', 221)\n",
      "(11, 'find oracle as', 76)\n",
      "(10, 'find oracle as', 78)\n",
      "(9, 'find oracle as', 228)\n",
      "(8, 'find oracle as', 69)\n",
      "(7, 'find oracle as', 45)\n",
      "(6, 'find oracle as', 46)\n",
      "(5, 'find oracle as', 8)\n",
      "(4, 'find oracle as', 196)\n",
      "(3, 'find oracle as', 229)\n",
      "(2, 'find oracle as', 228)\n",
      "(1, 'find oracle as', 9)\n",
      "(0, 'find oracle as', 36)\n",
      "[36, 9, 228, 229, 196, 8, 46, 45, 69, 228, 78, 76, 221, 226, 195, 194]\n",
      "find the last orcale 170\n",
      "(14, 'find oracle as', 201)\n",
      "(13, 'find oracle as', 174)\n",
      "(12, 'find oracle as', 88)\n",
      "(11, 'find oracle as', 110)\n",
      "(10, 'find oracle as', 153)\n",
      "(9, 'find oracle as', 165)\n",
      "(8, 'find oracle as', 91)\n",
      "(7, 'find oracle as', 244)\n",
      "(6, 'find oracle as', 248)\n",
      "(5, 'find oracle as', 220)\n",
      "(4, 'find oracle as', 226)\n",
      "(3, 'find oracle as', 19)\n",
      "(2, 'find oracle as', 222)\n",
      "(1, 'find oracle as', 130)\n",
      "(0, 'find oracle as', 55)\n",
      "[55, 130, 222, 19, 226, 220, 248, 244, 91, 165, 153, 110, 88, 174, 201, 186]\n"
     ]
    }
   ],
   "source": [
    "with open(\"3.2.3_ciphertext.hex\") as cipher:\n",
    "    cipher_text=cipher.read()\n",
    "    y=[]\n",
    "    x=[]\n",
    "    for i in range(len(cipher_text)/2/16):\n",
    "        y.append(cipher_text[i*32:(i+1)*32])# List for Yn\n",
    "        \n",
    "    for i in range(8):\n",
    "        x.append(crack_block(y[i],16))\n",
    "#x=crack_block(y[7],16)"
   ]
  },
  {
   "cell_type": "code",
   "execution_count": 689,
   "metadata": {},
   "outputs": [],
   "source": [
    "y_block=[]\n",
    "y_block=[[y[i][2*j:2*j+2] for j in range(16)]for i in range(8)]\n",
    "for i in range(8):\n",
    "    for j in range(16):\n",
    "        y_block[i][j]=int(y_block[i][j],16)\n",
    "    "
   ]
  },
  {
   "cell_type": "code",
   "execution_count": 690,
   "metadata": {},
   "outputs": [
    {
     "data": {
      "text/plain": [
       "[[28, 194, 177, 203, 103, 49, 243, 126, 241, 245, 223, 41, 220, 72, 182, 250],\n",
       " [185, 109, 149, 110, 146, 138, 93, 69, 81, 52, 99, 16, 113, 173, 31, 156],\n",
       " [161, 87, 3, 145, 146, 166, 68, 46, 156, 137, 205, 251, 212, 50, 100, 181],\n",
       " [206, 219, 0, 132, 44, 126, 58, 158, 165, 35, 86, 100, 94, 245, 15, 62],\n",
       " [40, 25, 19, 203, 249, 143, 2, 170, 165, 96, 4, 105, 212, 154, 84, 153],\n",
       " [69, 98, 129, 197, 171, 126, 75, 95, 101, 144, 38, 41, 253, 149, 172, 176],\n",
       " [91, 230, 212, 3, 237, 210, 245, 248, 80, 175, 144, 102, 95, 168, 204, 190],\n",
       " [215, 59, 24, 8, 40, 39, 200, 180, 131, 64, 100, 183, 255, 17, 55, 97]]"
      ]
     },
     "execution_count": 690,
     "metadata": {},
     "output_type": "execute_result"
    }
   ],
   "source": [
    "y_block"
   ]
  },
  {
   "cell_type": "code",
   "execution_count": 691,
   "metadata": {},
   "outputs": [],
   "source": [
    "x_block=[[0 for each in range(16)] for each in range(8)]\n",
    "for i in range(7,0,-1):\n",
    "        for j in range(16):\n",
    "              x_block[i][j]=(y_block[i-1][j])^(x[i][j])"
   ]
  },
  {
   "cell_type": "code",
   "execution_count": 692,
   "metadata": {},
   "outputs": [
    {
     "data": {
      "text/plain": [
       "[[0, 0, 0, 0, 0, 0, 0, 0, 0, 0, 0, 0, 0, 0, 0, 0],\n",
       " [84, 104, 105, 115, 32, 99, 97, 114, 116, 111, 111, 110, 32, 109, 111, 117],\n",
       " [115, 101, 44, 32, 80, 105, 110, 107, 121, 39, 115, 32, 112, 97, 114, 116],\n",
       " [110, 101, 114, 44, 32, 111, 110, 99, 101, 32, 119, 101, 110, 116, 32, 111],\n",
       " [110, 32, 34, 71, 121, 112, 45, 80, 97, 114, 111, 100, 121, 34, 32, 116],\n",
       " [111, 32, 119, 105, 110, 32, 109, 111, 110, 101, 121, 32, 116, 111, 32, 116],\n",
       " [97, 107, 101, 32, 111, 118, 101, 114, 32, 116, 104, 101, 32, 119, 111, 114],\n",
       " [108, 100, 10, 16, 15, 14, 13, 12, 11, 10, 9, 8, 7, 6, 5, 4]]"
      ]
     },
     "execution_count": 692,
     "metadata": {},
     "output_type": "execute_result"
    }
   ],
   "source": [
    "x_block"
   ]
  },
  {
   "cell_type": "code",
   "execution_count": 697,
   "metadata": {},
   "outputs": [],
   "source": [
    "plaintext=[]\n",
    "for i in range(1,8,1):\n",
    "    for j in range(16):\n",
    "        plaintext.append(x_block[i][j])\n",
    "Read_text=\"\".join(chr(p) for p in plaintext)      "
   ]
  },
  {
   "cell_type": "code",
   "execution_count": 698,
   "metadata": {},
   "outputs": [
    {
     "data": {
      "text/plain": [
       "'This cartoon mouse, Pinky\\'s partner, once went on \"Gyp-Parody\" to win money to take over the world\\n\\x10\\x0f\\x0e\\r\\x0c\\x0b\\n\\t\\x08\\x07\\x06\\x05\\x04'"
      ]
     },
     "execution_count": 698,
     "metadata": {},
     "output_type": "execute_result"
    }
   ],
   "source": [
    "Read_text"
   ]
  },
  {
   "cell_type": "code",
   "execution_count": 701,
   "metadata": {},
   "outputs": [
    {
     "data": {
      "text/plain": [
       "'This cartoon mouse, Pinky\\'s partner, once went on \"Gyp-Parody\" to win money to take over the world\\n\\x10\\x0f\\x0e\\r\\x0c\\x0b\\n\\t\\x08\\x07\\x06\\x05\\x04'"
      ]
     },
     "execution_count": 701,
     "metadata": {},
     "output_type": "execute_result"
    }
   ],
   "source": [
    "human_readable_plain_text"
   ]
  },
  {
   "cell_type": "code",
   "execution_count": 660,
   "metadata": {},
   "outputs": [
    {
     "data": {
      "text/plain": [
       "[[28, 204, 194, 43, 177, 28, 203, 182, 103, 115, 49, 31, 243, 55, 126, 239],\n",
       " [185, 150, 109, 217, 149, 86, 110, 233, 146, 40, 138, 165, 93, 212, 69, 85],\n",
       " [161, 21, 87, 112, 3, 57, 145, 25, 146, 42, 166, 100, 68, 66, 46, 233],\n",
       " [206, 237, 219, 176, 0, 8, 132, 66, 44, 199, 126, 227, 58, 169, 158, 234],\n",
       " [40, 129, 25, 145, 19, 60, 203, 191, 249, 152, 143, 240, 2, 42, 170, 170],\n",
       " [69, 86, 98, 40, 129, 28, 197, 90, 171, 183, 126, 228, 75, 181, 95, 246],\n",
       " [91, 190, 230, 109, 212, 64, 3, 62, 237, 221, 210, 47, 245, 95, 248, 133],\n",
       " [215, 115, 59, 177, 24, 128, 8, 130, 40, 130, 39, 124, 200, 139, 180, 72]]"
      ]
     },
     "execution_count": 660,
     "metadata": {},
     "output_type": "execute_result"
    }
   ],
   "source": [
    "y_block"
   ]
  },
  {
   "cell_type": "code",
   "execution_count": 663,
   "metadata": {},
   "outputs": [
    {
     "data": {
      "text/plain": [
       "[[0, 0, 0, 0, 0, 0, 0, 0, 0, 0, 0, 0, 0, 0, 0, 0],\n",
       " [0, 0, 0, 0, 0, 0, 0, 0, 0, 0, 0, 0, 0, 0, 0, 0],\n",
       " [0, 0, 0, 0, 0, 0, 0, 0, 0, 0, 0, 0, 0, 0, 0, 0],\n",
       " [0, 0, 0, 0, 0, 0, 0, 0, 0, 0, 0, 0, 0, 0, 0, 0],\n",
       " [0, 0, 0, 0, 0, 0, 0, 0, 0, 0, 0, 0, 0, 0, 0, 0],\n",
       " [0, 0, 0, 0, 0, 0, 0, 0, 0, 0, 0, 0, 0, 0, 0, 0],\n",
       " [0, 0, 0, 0, 0, 0, 0, 0, 0, 0, 0, 0, 0, 0, 0, 0]]"
      ]
     },
     "execution_count": 663,
     "metadata": {},
     "output_type": "execute_result"
    }
   ],
   "source": [
    "x_block"
   ]
  },
  {
   "cell_type": "code",
   "execution_count": 664,
   "metadata": {},
   "outputs": [
    {
     "data": {
      "text/plain": [
       "[[55, 130, 222, 19, 226, 220, 248, 244, 91, 165, 153, 110, 88, 174, 201, 186],\n",
       " [36, 9, 228, 229, 196, 8, 46, 45, 69, 228, 78, 76, 221, 226, 195, 194],\n",
       " [71, 57, 100, 162, 151, 175, 111, 197, 203, 5, 125, 73, 160, 245, 116, 237],\n",
       " [160, 251, 34, 195, 85, 14, 23, 206, 196, 81, 57, 0, 39, 215, 47, 74],\n",
       " [207, 50, 113, 189, 178, 201, 42, 77, 249, 169, 186, 158, 186, 70, 68, 218],\n",
       " [202, 8, 185, 78, 194, 227, 51, 46, 40, 19, 16, 48, 1, 204, 109, 232],\n",
       " [72, 170, 216, 184, 71, 82, 146, 12, 133, 154, 176, 71, 252, 37, 217, 143]]"
      ]
     },
     "execution_count": 664,
     "metadata": {},
     "output_type": "execute_result"
    }
   ],
   "source": [
    "x"
   ]
  },
  {
   "cell_type": "code",
   "execution_count": 584,
   "metadata": {},
   "outputs": [],
   "source": [
    "x_block_string=x_block\n",
    "for i in range(8):\n",
    "    for j in range(16):\n",
    "        x_block_string[i][j]=format(x_block[i][j],'02x')\n",
    "        \n",
    "plain_text=[]\n",
    "for i in range(8):\n",
    "    plain_text.append(\"\".join(each for each in x_block[i]))"
   ]
  },
  {
   "cell_type": "code",
   "execution_count": 585,
   "metadata": {},
   "outputs": [
    {
     "data": {
      "text/plain": [
       "['00000000000000000000000000000000',\n",
       " '54661a93f64e59bae2e981580f12a760',\n",
       " '739ed49757b55dc7ba3b9a955c1828bd',\n",
       " '6e2726cdb1f0bb546b831cfafe046a33',\n",
       " '6e16f9735506938ce89647e31d7eb1a0',\n",
       " '6fb87d338493a47a329df2b9a2dfde47',\n",
       " '615f86cd4514eb77ee5330a896579c34',\n",
       " '6c3c387e369cfbcab6784b41adf1313f']"
      ]
     },
     "execution_count": 585,
     "metadata": {},
     "output_type": "execute_result"
    }
   ],
   "source": [
    "plain_text"
   ]
  },
  {
   "cell_type": "code",
   "execution_count": 587,
   "metadata": {},
   "outputs": [
    {
     "data": {
      "text/plain": [
       "'0000000000000000000000000000000054661a93f64e59bae2e981580f12a760739ed49757b55dc7ba3b9a955c1828bd6e2726cdb1f0bb546b831cfafe046a336e16f9735506938ce89647e31d7eb1a06fb87d338493a47a329df2b9a2dfde47615f86cd4514eb77ee5330a896579c346c3c387e369cfbcab6784b41adf1313f'"
      ]
     },
     "execution_count": 587,
     "metadata": {},
     "output_type": "execute_result"
    }
   ],
   "source": [
    "text=\"\".join(each for each in plain_text)\n",
    "text"
   ]
  },
  {
   "cell_type": "code",
   "execution_count": 430,
   "metadata": {},
   "outputs": [
    {
     "data": {
      "text/plain": [
       "'66cf737ff00fe6d79743b2fcb9fc7fff48aad8b84752920c859ab047fc25d98fca08b94ec2e3332e2813103001cc6de8cf3271bdb2c92a4df9a9ba9eba4644daa0fb22c3550e17cec451390027d72f4a473964a297af6fc5cb057d49a0f574ed2409e4e5c4082e2d45e44e4cdde2c3c23782de13e2dcf8f45ba5996e58aec9ba'"
      ]
     },
     "execution_count": 430,
     "metadata": {},
     "output_type": "execute_result"
    }
   ],
   "source": [
    "plain_text = []\n",
    "#for i in range(1, len(blocks)):\n",
    " #   print(\"extracting block: \" + str(i-1))\n",
    "  #  p_ = extract_plaintext_from_block(i, blocks)\n",
    "   # plain_text += p_\n",
    "\n",
    "human_readable_plain_text = ''.join(chr(p) for p in plain_text)\n",
    "print(human_readable_plain_text)"
   ]
  },
  {
   "cell_type": "code",
   "execution_count": 610,
   "metadata": {},
   "outputs": [],
   "source": [
    "plain=[]\n",
    "for i in range(8):\n",
    "    for j in range(16):\n",
    "        plain.append(x_block[i][j])\n",
    "        \n",
    "    \n",
    "\n",
    "#human_readable_plain_text = ''.join(chr(p) for p in plain)"
   ]
  },
  {
   "cell_type": "code",
   "execution_count": 622,
   "metadata": {},
   "outputs": [],
   "source": [
    "human_readable_plain_text = ''.join(chr(p) for p in x_block[1])"
   ]
  },
  {
   "cell_type": "code",
   "execution_count": 703,
   "metadata": {},
   "outputs": [
    {
     "name": "stdout",
     "output_type": "stream",
     "text": [
      "This cartoon mouse, Pinky's partner, once went on \"Gyp-Parody\" to win money to take over the world\n",
      "\u0010\u000f\u000e\r",
      "\f",
      "\u000b",
      "\n",
      "\t\b\u0007\u0006\u0005\u0004\n"
     ]
    }
   ],
   "source": [
    "print(human_readable_plain_text)\n",
    "\n"
   ]
  },
  {
   "cell_type": "code",
   "execution_count": 705,
   "metadata": {},
   "outputs": [
    {
     "name": "stdout",
     "output_type": "stream",
     "text": [
      "Collecting pycrypto\n",
      "\u001b[?25l  Downloading https://files.pythonhosted.org/packages/60/db/645aa9af249f059cc3a368b118de33889219e0362141e75d4eaf6f80f163/pycrypto-2.6.1.tar.gz (446kB)\n",
      "\u001b[K    100% |████████████████████████████████| 450kB 7.2MB/s ta 0:00:011\n",
      "\u001b[?25hBuilding wheels for collected packages: pycrypto\n",
      "  Running setup.py bdist_wheel for pycrypto ... \u001b[?25ldone\n",
      "\u001b[?25h  Stored in directory: /Users/Tobias/Library/Caches/pip/wheels/27/02/5e/77a69d0c16bb63c6ed32f5386f33a2809c94bd5414a2f6c196\n",
      "Successfully built pycrypto\n",
      "Installing collected packages: pycrypto\n",
      "Successfully installed pycrypto-2.6.1\n"
     ]
    }
   ],
   "source": [
    "# 3.2.4\n",
    "!pip install pycrypto --upgrade"
   ]
  },
  {
   "cell_type": "code",
   "execution_count": 708,
   "metadata": {},
   "outputs": [
    {
     "name": "stdout",
     "output_type": "stream",
     "text": [
      "Cloning into 'moduli.hex'...\n",
      "fatal: unable to update url base from redirection:\n",
      "  asked for: https://github-dev.cs.illinois.edu/cs461-fa18/_public/blob/master/assignments/moduli.hex/info/refs?service=git-upload-pack\n",
      "   redirect: https://github-dev.cs.illinois.edu/login?return_to=https%3A%2F%2Fgithub-dev.cs.illinois.edu%2Fcs461-fa18%2F_public%2Fblob%2Fmaster%2Fassignments%2Fmoduli.hex%2Finfo%2Frefs%3Fservice%3Dgit-upload-pack\n"
     ]
    }
   ],
   "source": [
    "!git clone https://github-dev.cs.illinois.edu/cs461-fa18/_public/blob/master/assignments"
   ]
  },
  {
   "cell_type": "code",
   "execution_count": 709,
   "metadata": {},
   "outputs": [
    {
     "name": "stdout",
     "output_type": "stream",
     "text": [
      "  % Total    % Received % Xferd  Average Speed   Time    Time     Time  Current\n",
      "                                 Dload  Upload   Total   Spent    Left  Speed\n",
      "100   223    0   223    0     0   2965      0 --:--:-- --:--:-- --:--:--  2973\n",
      "100 10398    0 10398    0     0  81808      0 --:--:-- --:--:-- --:--:-- 81808\n"
     ]
    }
   ],
   "source": [
    "!curl -LJO https://github-dev.cs.illinois.edu/cs461-fa18/_public/blob/master/assignments/moduli.hex"
   ]
  },
  {
   "cell_type": "code",
   "execution_count": 711,
   "metadata": {},
   "outputs": [],
   "source": [
    "#3.2.4 RSA gcd\n",
    "import pbp\n",
    "from math import floor\n",
    "from fractions import gcd\n",
    "from Crypto.PublicKey import RSA"
   ]
  },
  {
   "cell_type": "code",
   "execution_count": 878,
   "metadata": {},
   "outputs": [],
   "source": [
    "def product_tree(e):\n",
    "    #length=len(e)\n",
    "\n",
    "    result=[e]\n",
    "    while(len(result[-1])>1):\n",
    "        y=[]\n",
    "        x=result[-1]\n",
    "        lenght=len(x)\n",
    "        y=[x[2*i]*x[2*i+1] for i in range(length/2)]\n",
    "        if length%2==1:\n",
    "            y.append(x[length-1])\n",
    "\n",
    "        result.append(x)\n",
    "        \n",
    "    return (result[-1][0],result)\n",
    "def square(X):\n",
    "    Y = []\n",
    "    for i in range(len(X)):\n",
    "        Y.append([X[i][j]**2 for j in range(len(X[i]))])\n",
    "    return Y\n",
    "def remainder_tree(P, product_tree):\n",
    "    result = [P]\n",
    "    for node in reversed(product_tree):\n",
    "        #print(result, node)\n",
    "        result = [result[i//2] % node[i] for i in range(len(node))]\n",
    "        print(result, node)\n",
    "    return result"
   ]
  },
  {
   "cell_type": "code",
   "execution_count": 862,
   "metadata": {},
   "outputs": [],
   "source": [
    "with open (\"moduli.hex\") as moduli:\n",
    "    #modul_list=moduli.readlines()\n",
    "    moduli_list = [i.strip() for i in moduli.readlines()]\n",
    "with open (\"3.2.4_ciphertext.enc.asc\") as  cipher:\n",
    "    cipher_text=cipher.read()\n",
    "      #cipher_text=[c.strip() for c in cipher.readlines()]"
   ]
  },
  {
   "cell_type": "code",
   "execution_count": 865,
   "metadata": {},
   "outputs": [],
   "source": [
    "for each in range(len(moduli_list)):\n",
    "    moduli_list[each]=int(moduli_list[each],16)"
   ]
  },
  {
   "cell_type": "code",
   "execution_count": null,
   "metadata": {},
   "outputs": [],
   "source": [
    "def find_gcd(remainder_list,moduli_list):\n",
    "    \n",
    "    potential_pair=[]\n",
    "    \n",
    "    if len(reminder_list)==len(moduli_list):\n",
    "    \n",
    "        remainder_list=[remainder_list[i]/moduli_list[i] for i in range(len(moduli_list))]\n",
    "    \n",
    "        for r,m in zip(remainder_list,moduli_list):\n",
    "            \n",
    "             q=gcd(r,m)\n",
    "        \n",
    "            if q>1:\n",
    "                \n",
    "                potential_pair.append((m,q))\n",
    "                \n",
    "    else:\n",
    "        print(\"error, not pair\")\n",
    "        exit(1)\n",
    "        \n",
    "    return potential_pair\n",
    "    "
   ]
  },
  {
   "cell_type": "code",
   "execution_count": 879,
   "metadata": {},
   "outputs": [
    {
     "ename": "KeyboardInterrupt",
     "evalue": "",
     "output_type": "error",
     "traceback": [
      "\u001b[0;31m---------------------------------------------------------------------------\u001b[0m",
      "\u001b[0;31mKeyboardInterrupt\u001b[0m                         Traceback (most recent call last)",
      "\u001b[0;32m<ipython-input-879-67e30d623910>\u001b[0m in \u001b[0;36m<module>\u001b[0;34m()\u001b[0m\n\u001b[0;32m----> 1\u001b[0;31m \u001b[0mpt\u001b[0m\u001b[0;34m=\u001b[0m\u001b[0mproduct_tree\u001b[0m\u001b[0;34m(\u001b[0m\u001b[0mmoduli_list\u001b[0m\u001b[0;34m)\u001b[0m\u001b[0;34m\u001b[0m\u001b[0m\n\u001b[0m",
      "\u001b[0;32m<ipython-input-878-c2a5889947ad>\u001b[0m in \u001b[0;36mproduct_tree\u001b[0;34m(e)\u001b[0m\n\u001b[1;32m      6\u001b[0m         \u001b[0my\u001b[0m\u001b[0;34m=\u001b[0m\u001b[0;34m[\u001b[0m\u001b[0;34m]\u001b[0m\u001b[0;34m\u001b[0m\u001b[0m\n\u001b[1;32m      7\u001b[0m         \u001b[0mx\u001b[0m\u001b[0;34m=\u001b[0m\u001b[0mresult\u001b[0m\u001b[0;34m[\u001b[0m\u001b[0;34m-\u001b[0m\u001b[0;36m1\u001b[0m\u001b[0;34m]\u001b[0m\u001b[0;34m\u001b[0m\u001b[0m\n\u001b[0;32m----> 8\u001b[0;31m         \u001b[0my\u001b[0m\u001b[0;34m=\u001b[0m\u001b[0;34m[\u001b[0m\u001b[0mx\u001b[0m\u001b[0;34m[\u001b[0m\u001b[0;36m2\u001b[0m\u001b[0;34m*\u001b[0m\u001b[0mi\u001b[0m\u001b[0;34m]\u001b[0m\u001b[0;34m*\u001b[0m\u001b[0mx\u001b[0m\u001b[0;34m[\u001b[0m\u001b[0;36m2\u001b[0m\u001b[0;34m*\u001b[0m\u001b[0mi\u001b[0m\u001b[0;34m+\u001b[0m\u001b[0;36m1\u001b[0m\u001b[0;34m]\u001b[0m \u001b[0;32mfor\u001b[0m \u001b[0mi\u001b[0m \u001b[0;32min\u001b[0m \u001b[0mrange\u001b[0m\u001b[0;34m(\u001b[0m\u001b[0mlength\u001b[0m\u001b[0;34m/\u001b[0m\u001b[0;36m2\u001b[0m\u001b[0;34m)\u001b[0m\u001b[0;34m]\u001b[0m\u001b[0;34m\u001b[0m\u001b[0m\n\u001b[0m\u001b[1;32m      9\u001b[0m         \u001b[0;32mif\u001b[0m \u001b[0mlength\u001b[0m\u001b[0;34m%\u001b[0m\u001b[0;36m2\u001b[0m\u001b[0;34m==\u001b[0m\u001b[0;36m1\u001b[0m\u001b[0;34m:\u001b[0m\u001b[0;34m\u001b[0m\u001b[0m\n\u001b[1;32m     10\u001b[0m             \u001b[0my\u001b[0m\u001b[0;34m.\u001b[0m\u001b[0mappend\u001b[0m\u001b[0;34m(\u001b[0m\u001b[0mx\u001b[0m\u001b[0;34m[\u001b[0m\u001b[0mlength\u001b[0m\u001b[0;34m-\u001b[0m\u001b[0;36m1\u001b[0m\u001b[0;34m]\u001b[0m\u001b[0;34m)\u001b[0m\u001b[0;34m\u001b[0m\u001b[0m\n",
      "\u001b[0;31mKeyboardInterrupt\u001b[0m: "
     ]
    }
   ],
   "source": [
    "pt=product_tree(moduli_list)"
   ]
  },
  {
   "cell_type": "code",
   "execution_count": null,
   "metadata": {},
   "outputs": [],
   "source": [
    "pt"
   ]
  },
  {
   "cell_type": "code",
   "execution_count": null,
   "metadata": {},
   "outputs": [],
   "source": [
    "find_d(e,N):\n",
    "    "
   ]
  }
 ],
 "metadata": {
  "kernelspec": {
   "display_name": "Python 2",
   "language": "python",
   "name": "python2"
  }
 },
 "nbformat": 4,
 "nbformat_minor": 2
}
